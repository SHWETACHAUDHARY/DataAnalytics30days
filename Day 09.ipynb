{
 "cells": [
  {
   "cell_type": "markdown",
   "id": "7e890ea9",
   "metadata": {},
   "source": [
    "# Tuples"
   ]
  },
  {
   "cell_type": "raw",
   "id": "ed3672fe",
   "metadata": {},
   "source": [
    "Creating Tuples"
   ]
  },
  {
   "cell_type": "code",
   "execution_count": 2,
   "id": "365dddd0",
   "metadata": {},
   "outputs": [
    {
     "name": "stdout",
     "output_type": "stream",
     "text": [
      "(1, 2, 3)\n",
      "<class 'tuple'>\n"
     ]
    }
   ],
   "source": [
    "my_tuple=(1,2,3)\n",
    "\n",
    "print(my_tuple)\n",
    "print(type(my_tuple))"
   ]
  },
  {
   "cell_type": "code",
   "execution_count": 7,
   "id": "d04cf5ff",
   "metadata": {},
   "outputs": [
    {
     "name": "stdout",
     "output_type": "stream",
     "text": [
      "(1, (2+3j), 'HELLO', 3)\n",
      "<class 'tuple'>\n"
     ]
    }
   ],
   "source": [
    "my_tuple=(1,2+3j,\"HELLO\",3)\n",
    "\n",
    "print(my_tuple)\n",
    "print(type(my_tuple))"
   ]
  },
  {
   "cell_type": "raw",
   "id": "9ac28ff9",
   "metadata": {},
   "source": [
    "Nested Tuple"
   ]
  },
  {
   "cell_type": "code",
   "execution_count": 8,
   "id": "5304f53a",
   "metadata": {},
   "outputs": [
    {
     "name": "stdout",
     "output_type": "stream",
     "text": [
      "('data', [1, 2, 3], (4, 5, 6))\n",
      "<class 'tuple'>\n"
     ]
    }
   ],
   "source": [
    "a=(\"data\",[1,2,3],(4,5,6))\n",
    "print(a)\n",
    "print(type(a))"
   ]
  },
  {
   "cell_type": "raw",
   "id": "0afb4d6e",
   "metadata": {},
   "source": [
    "Creating a Tuple with only 1 item"
   ]
  },
  {
   "cell_type": "code",
   "execution_count": 9,
   "id": "f31477f7",
   "metadata": {},
   "outputs": [
    {
     "name": "stdout",
     "output_type": "stream",
     "text": [
      "Hello\n",
      "<class 'str'>\n"
     ]
    }
   ],
   "source": [
    "var1=(\"Hello\")\n",
    "print(var1)\n",
    "print(type(var1))"
   ]
  },
  {
   "cell_type": "code",
   "execution_count": 10,
   "id": "471dbf08",
   "metadata": {},
   "outputs": [
    {
     "name": "stdout",
     "output_type": "stream",
     "text": [
      "('Hello',)\n",
      "<class 'tuple'>\n"
     ]
    }
   ],
   "source": [
    "var1=(\"Hello\",)\n",
    "print(var1)\n",
    "print(type(var1))"
   ]
  },
  {
   "cell_type": "raw",
   "id": "3d8f447d",
   "metadata": {},
   "source": [
    "#Tuple Constructor"
   ]
  },
  {
   "cell_type": "code",
   "execution_count": 13,
   "id": "d19fde8b",
   "metadata": {},
   "outputs": [
    {
     "name": "stdout",
     "output_type": "stream",
     "text": [
      "('a', 'b', 'c')\n",
      "<class 'tuple'>\n"
     ]
    }
   ],
   "source": [
    "a=tuple((\"a\",\"b\",\"c\"))\n",
    "print(a)\n",
    "print(type(a))"
   ]
  },
  {
   "cell_type": "raw",
   "id": "29dc8b9f",
   "metadata": {},
   "source": [
    "INDEXING"
   ]
  },
  {
   "cell_type": "code",
   "execution_count": 15,
   "id": "e2b9bd45",
   "metadata": {},
   "outputs": [
    {
     "name": "stdout",
     "output_type": "stream",
     "text": [
      "45\n"
     ]
    }
   ],
   "source": [
    "a=(67,34,44,23,45)\n",
    "print(a[4])"
   ]
  },
  {
   "cell_type": "markdown",
   "id": "1c9c95f3",
   "metadata": {},
   "source": [
    "Slicing"
   ]
  },
  {
   "cell_type": "code",
   "execution_count": 18,
   "id": "62cb4987",
   "metadata": {},
   "outputs": [
    {
     "name": "stdout",
     "output_type": "stream",
     "text": [
      "(23, 45, 4, 5, 6)\n"
     ]
    }
   ],
   "source": [
    "a=(67,34,44,23,45,4,5,6,7,8,9)\n",
    "print(a[3:8:1])"
   ]
  },
  {
   "cell_type": "raw",
   "id": "3a233043",
   "metadata": {},
   "source": [
    "Reverse a Tuple"
   ]
  },
  {
   "cell_type": "code",
   "execution_count": 20,
   "id": "e0c58a12",
   "metadata": {},
   "outputs": [
    {
     "name": "stdout",
     "output_type": "stream",
     "text": [
      "(9, 8, 7, 6, 5, 4, 45, 23, 44, 34, 67)\n"
     ]
    }
   ],
   "source": [
    "a=(67,34,44,23,45,4,5,6,7,8,9)\n",
    "print(a[::-1])"
   ]
  },
  {
   "cell_type": "code",
   "execution_count": 23,
   "id": "8f8c2872",
   "metadata": {},
   "outputs": [
    {
     "name": "stdout",
     "output_type": "stream",
     "text": [
      "(1, 2, 3, 4, 5, 6, 7, 8)\n",
      "(4, 5, 6, 7, 8)\n",
      "(1, 2, 3, 4)\n",
      "()\n"
     ]
    }
   ],
   "source": [
    "T=(1,2,3,4,5,6,7,8)\n",
    "print(T[::])\n",
    "print(T[3:])\n",
    "print(T[:4])\n",
    "print(T[-2:-5])"
   ]
  },
  {
   "cell_type": "code",
   "execution_count": 26,
   "id": "6e15bda2",
   "metadata": {},
   "outputs": [
    {
     "name": "stdout",
     "output_type": "stream",
     "text": [
      "(1, 2, 3, 4, 5, 6, 7, 8, 1, 2, 3, 4, 5, 6, 7, 8)\n",
      "(1, 2, 3, 4, 5, 6, 7, 8, 1, 2, 3, 4, 5, 6, 7, 8)\n",
      "8\n"
     ]
    }
   ],
   "source": [
    "T=(1,2,3,4,5,6,7,8)\n",
    "print(T*2)\n",
    "print(T+T)\n",
    "print(len(T))"
   ]
  },
  {
   "cell_type": "raw",
   "id": "86f1c98e",
   "metadata": {},
   "source": [
    "WAP to take 5 imput from user and store in tuple"
   ]
  },
  {
   "cell_type": "code",
   "execution_count": null,
   "id": "4367a4ab",
   "metadata": {},
   "outputs": [],
   "source": [
    "c=()\n",
    "i=0\n",
    "while i<=5:\n",
    "    b=int(input(\"enter value: \"))\n",
    "    c=c+ (b,)\n",
    "    i=i+1\n",
    "    print(c)"
   ]
  },
  {
   "cell_type": "code",
   "execution_count": null,
   "id": "4c330d46",
   "metadata": {},
   "outputs": [],
   "source": []
  }
 ],
 "metadata": {
  "kernelspec": {
   "display_name": "Python 3 (ipykernel)",
   "language": "python",
   "name": "python3"
  },
  "language_info": {
   "codemirror_mode": {
    "name": "ipython",
    "version": 3
   },
   "file_extension": ".py",
   "mimetype": "text/x-python",
   "name": "python",
   "nbconvert_exporter": "python",
   "pygments_lexer": "ipython3",
   "version": "3.11.5"
  }
 },
 "nbformat": 4,
 "nbformat_minor": 5
}
