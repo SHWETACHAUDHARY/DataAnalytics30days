{
 "cells": [
  {
   "cell_type": "markdown",
   "id": "410375d3",
   "metadata": {},
   "source": [
    "# Dictionary"
   ]
  },
  {
   "cell_type": "code",
   "execution_count": 3,
   "id": "6827577f",
   "metadata": {},
   "outputs": [
    {
     "name": "stdout",
     "output_type": "stream",
     "text": [
      "{'ID': '12sda', 'color': 'red', 'year': '1996'}\n",
      "<class 'dict'>\n"
     ]
    }
   ],
   "source": [
    "a={\"ID\":\"12sda\",\n",
    "  \"color\":\"red\",\n",
    "   \"year\":\"1996\"}\n",
    "print(a)\n",
    "print(type(a))"
   ]
  },
  {
   "cell_type": "code",
   "execution_count": 4,
   "id": "0d289c4a",
   "metadata": {},
   "outputs": [
    {
     "name": "stdout",
     "output_type": "stream",
     "text": [
      "red\n"
     ]
    }
   ],
   "source": [
    "print(a[\"color\"])"
   ]
  },
  {
   "cell_type": "code",
   "execution_count": 5,
   "id": "ea9cff8b",
   "metadata": {},
   "outputs": [
    {
     "name": "stdout",
     "output_type": "stream",
     "text": [
      "3\n"
     ]
    }
   ],
   "source": [
    "a={\"ID\":\"12sda\",\n",
    "  \"color\":\"red\",\n",
    "   \"year\":\"1996\"}\n",
    "print(len(a))"
   ]
  },
  {
   "cell_type": "code",
   "execution_count": 8,
   "id": "0520e756",
   "metadata": {},
   "outputs": [
    {
     "name": "stdout",
     "output_type": "stream",
     "text": [
      "{'ID': '12sda', 'color': 'red', 'year': '1996', 'a': (1, 2, 3), 'b': [1, 2, 3], 'c': False}\n"
     ]
    }
   ],
   "source": [
    "dict={\"ID\":\"12sda\",\n",
    "  \"color\":\"red\",\n",
    "   \"year\":\"1996\",\n",
    "   'a': (1,2,3),\n",
    "   'b':[1,2,3],\n",
    "   'c': False\n",
    "  }\n",
    "print(dict)"
   ]
  },
  {
   "cell_type": "code",
   "execution_count": 13,
   "id": "fa451449",
   "metadata": {},
   "outputs": [
    {
     "name": "stdout",
     "output_type": "stream",
     "text": [
      "shweta\n"
     ]
    }
   ],
   "source": [
    "a={\"name\":\"shweta\",\"age\":\"12\",\"country\":\"Nepal\"}\n",
    "print(a.get('name'))"
   ]
  },
  {
   "cell_type": "code",
   "execution_count": 15,
   "id": "6b44f2bc",
   "metadata": {},
   "outputs": [
    {
     "name": "stdout",
     "output_type": "stream",
     "text": [
      "dict_keys(['name', 'age', 'country'])\n",
      "dict_values(['shweta', '12', 'Nepal'])\n"
     ]
    }
   ],
   "source": [
    "a={\"name\":\"shweta\",\"age\":\"12\",\"country\":\"Nepal\"}\n",
    "x=a.keys()\n",
    "print(x)\n",
    "y=a.values()\n",
    "print(y)"
   ]
  },
  {
   "cell_type": "code",
   "execution_count": 16,
   "id": "99cf4500",
   "metadata": {},
   "outputs": [
    {
     "name": "stdout",
     "output_type": "stream",
     "text": [
      "{'name': 'shweta', 'age': 24, 'country': 'Nepal'}\n"
     ]
    }
   ],
   "source": [
    "a={\"name\":\"shweta\",\"age\":\"12\",\"country\":\"Nepal\"}\n",
    "a['age']=24\n",
    "print(a)"
   ]
  },
  {
   "cell_type": "code",
   "execution_count": 22,
   "id": "2596a95c",
   "metadata": {},
   "outputs": [
    {
     "name": "stdout",
     "output_type": "stream",
     "text": [
      "{'name': 'shweta', 'age': '12', 'country': 'Nepal', 'mail': 'shweta@gmail.com'}\n"
     ]
    }
   ],
   "source": [
    "a={\"name\":\"shweta\",\"age\":\"12\",\"country\":\"Nepal\"}\n",
    "a.update({\"mail\":\"shweta@gmail.com\"})\n",
    "print(a)"
   ]
  },
  {
   "cell_type": "code",
   "execution_count": 24,
   "id": "3e506195",
   "metadata": {},
   "outputs": [
    {
     "name": "stdout",
     "output_type": "stream",
     "text": [
      "{'name': 'shweta', 'country': 'Nepal'}\n"
     ]
    }
   ],
   "source": [
    "a={\"name\":\"shweta\",\"age\":\"12\",\"country\":\"Nepal\"}\n",
    "a.pop('age')\n",
    "print(a)"
   ]
  },
  {
   "cell_type": "code",
   "execution_count": 28,
   "id": "2987fc20",
   "metadata": {},
   "outputs": [
    {
     "name": "stdout",
     "output_type": "stream",
     "text": [
      "{}\n",
      "<class 'dict'>\n"
     ]
    }
   ],
   "source": [
    "a={\"name\":\"shweta\",\"age\":\"12\",\"country\":\"Nepal\"}\n",
    "a.clear()\n",
    "print(a)\n",
    "print(type(a))"
   ]
  },
  {
   "cell_type": "markdown",
   "id": "66ac9e84",
   "metadata": {},
   "source": [
    "\n",
    "\n",
    "# Concatenate in DIctionary"
   ]
  },
  {
   "cell_type": "code",
   "execution_count": 30,
   "id": "b8a5b450",
   "metadata": {},
   "outputs": [
    {
     "ename": "TypeError",
     "evalue": "'dict' object is not callable",
     "output_type": "error",
     "traceback": [
      "\u001b[1;31m---------------------------------------------------------------------------\u001b[0m",
      "\u001b[1;31mTypeError\u001b[0m                                 Traceback (most recent call last)",
      "Cell \u001b[1;32mIn[30], line 1\u001b[0m\n\u001b[1;32m----> 1\u001b[0m d\u001b[38;5;241m=\u001b[39m \u001b[38;5;28mdict\u001b[39m()\n\u001b[0;32m      2\u001b[0m \u001b[38;5;28;01mfor\u001b[39;00m x \u001b[38;5;129;01min\u001b[39;00m \u001b[38;5;28mrange\u001b[39m(\u001b[38;5;241m1\u001b[39m,\u001b[38;5;241m16\u001b[39m):\n\u001b[0;32m      3\u001b[0m     d[x]\u001b[38;5;241m=\u001b[39mx\u001b[38;5;241m*\u001b[39m\u001b[38;5;241m*\u001b[39m\u001b[38;5;241m2\u001b[39m\n",
      "\u001b[1;31mTypeError\u001b[0m: 'dict' object is not callable"
     ]
    }
   ],
   "source": [
    "d= dict()\n",
    "for x in range(1,16):\n",
    "    d[x]=x**2\n",
    "    print(d)"
   ]
  },
  {
   "cell_type": "markdown",
   "id": "67bb5359",
   "metadata": {},
   "source": [
    "# Check whether a given key is already in a dictionary"
   ]
  },
  {
   "cell_type": "code",
   "execution_count": 31,
   "id": "f933d78c",
   "metadata": {},
   "outputs": [],
   "source": [
    "a={\"a\":\"1\",\"b\":\"2\",\"b\":\"3\"}"
   ]
  },
  {
   "cell_type": "code",
   "execution_count": 33,
   "id": "a852361f",
   "metadata": {},
   "outputs": [
    {
     "name": "stdout",
     "output_type": "stream",
     "text": [
      "{'a': '1', 'b': '3'}\n",
      "<class 'dict'>\n"
     ]
    }
   ],
   "source": [
    "print(a)\n",
    "print(type(a))"
   ]
  },
  {
   "cell_type": "code",
   "execution_count": 35,
   "id": "d09dbb5c",
   "metadata": {},
   "outputs": [
    {
     "name": "stdout",
     "output_type": "stream",
     "text": [
      "dict_keys(['a', 'b'])\n"
     ]
    }
   ],
   "source": [
    "b=a.keys()\n",
    "print(b)"
   ]
  },
  {
   "cell_type": "code",
   "execution_count": null,
   "id": "f76769de",
   "metadata": {},
   "outputs": [],
   "source": []
  }
 ],
 "metadata": {
  "kernelspec": {
   "display_name": "Python 3 (ipykernel)",
   "language": "python",
   "name": "python3"
  },
  "language_info": {
   "codemirror_mode": {
    "name": "ipython",
    "version": 3
   },
   "file_extension": ".py",
   "mimetype": "text/x-python",
   "name": "python",
   "nbconvert_exporter": "python",
   "pygments_lexer": "ipython3",
   "version": "3.11.5"
  }
 },
 "nbformat": 4,
 "nbformat_minor": 5
}
