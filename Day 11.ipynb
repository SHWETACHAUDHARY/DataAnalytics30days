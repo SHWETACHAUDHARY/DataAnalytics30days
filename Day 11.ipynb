{
 "cells": [
  {
   "cell_type": "markdown",
   "id": "a70c1363",
   "metadata": {},
   "source": [
    "# Quiz Game (Easy)"
   ]
  },
  {
   "cell_type": "code",
   "execution_count": 1,
   "id": "7c17edd8",
   "metadata": {},
   "outputs": [
    {
     "name": "stdout",
     "output_type": "stream",
     "text": [
      "Welcome to my computer quiz\n"
     ]
    }
   ],
   "source": [
    "print (\"Welcome to my computer quiz\")"
   ]
  },
  {
   "cell_type": "code",
   "execution_count": null,
   "id": "9c51fc09",
   "metadata": {},
   "outputs": [],
   "source": [
    "answer = input(\"Do you want to play ? \")\n",
    "if answer!='yes':\n",
    "    quit()"
   ]
  },
  {
   "cell_type": "code",
   "execution_count": null,
   "id": "2148cbf3",
   "metadata": {},
   "outputs": [],
   "source": [
    "count =0\n",
    "answer = input(\"What does CPU stand for ?\")\n",
    "if answer==\"central processing unit\":\n",
    "    print(\"Correct !\")\n",
    "    count +=1\n",
    "else :\n",
    "    print(\"Incorrect !\")\n",
    "\n",
    "answer = input(\"What does RAM stand for ?\")\n",
    "if answer==\"random access memory\":\n",
    "    print(\"Correct !\")\n",
    "    count +=1\n",
    "else :\n",
    "    print(\"Incorrect !\") \n",
    "    \n",
    "answer = input(\"What does WIFI stand for ?\")\n",
    "if answer==\"wireless fidility\":\n",
    "    print(\"Correct !\")\n",
    "    count +=1\n",
    "else :\n",
    "    print(\"Incorrect !\")\n",
    "    \n",
    "print(\"You have scored \"+ str(count)+ \"points. \")"
   ]
  },
  {
   "cell_type": "code",
   "execution_count": null,
   "id": "ae0f583d",
   "metadata": {},
   "outputs": [],
   "source": []
  }
 ],
 "metadata": {
  "kernelspec": {
   "display_name": "Python 3 (ipykernel)",
   "language": "python",
   "name": "python3"
  },
  "language_info": {
   "codemirror_mode": {
    "name": "ipython",
    "version": 3
   },
   "file_extension": ".py",
   "mimetype": "text/x-python",
   "name": "python",
   "nbconvert_exporter": "python",
   "pygments_lexer": "ipython3",
   "version": "3.11.5"
  }
 },
 "nbformat": 4,
 "nbformat_minor": 5
}
